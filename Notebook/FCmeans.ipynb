{
 "cells": [
  {
   "cell_type": "code",
   "execution_count": 20,
   "id": "e05fe17b-9434-4364-afd1-2db4af7c0ea6",
   "metadata": {},
   "outputs": [],
   "source": [
    "import pandas as pd\n",
    "import numpy as np\n",
    "from sklearn.preprocessing import StandardScaler, LabelEncoder\n",
    "from fcmeans import FCM\n",
    "from sklearn.decomposition import PCA\n",
    "import matplotlib.pyplot as plt"
   ]
  },
  {
   "cell_type": "code",
   "execution_count": 21,
   "id": "3a097c05-45f3-444d-8839-72a8ff9d31d5",
   "metadata": {},
   "outputs": [],
   "source": [
    "data = pd.read_csv('respiratory_clean.csv')\n",
    "df = data.copy()"
   ]
  },
  {
   "cell_type": "code",
   "execution_count": 22,
   "id": "7e1d2cb5-de89-49cf-bb6d-ef40b720379e",
   "metadata": {},
   "outputs": [
    {
     "data": {
      "text/html": [
       "<div>\n",
       "<style scoped>\n",
       "    .dataframe tbody tr th:only-of-type {\n",
       "        vertical-align: middle;\n",
       "    }\n",
       "\n",
       "    .dataframe tbody tr th {\n",
       "        vertical-align: top;\n",
       "    }\n",
       "\n",
       "    .dataframe thead th {\n",
       "        text-align: right;\n",
       "    }\n",
       "</style>\n",
       "<table border=\"1\" class=\"dataframe\">\n",
       "  <thead>\n",
       "    <tr style=\"text-align: right;\">\n",
       "      <th></th>\n",
       "      <th>sex</th>\n",
       "      <th>age</th>\n",
       "      <th>duration</th>\n",
       "      <th>cough</th>\n",
       "      <th>night_fever</th>\n",
       "      <th>catarrh</th>\n",
       "      <th>cold</th>\n",
       "      <th>tenderness</th>\n",
       "      <th>headache</th>\n",
       "      <th>black_stool</th>\n",
       "      <th>...</th>\n",
       "      <th>vaginal_discharge</th>\n",
       "      <th>vaginal_itching</th>\n",
       "      <th>stooling</th>\n",
       "      <th>running_nose</th>\n",
       "      <th>club_pain</th>\n",
       "      <th>bleeding_from_the_nose</th>\n",
       "      <th>unable_to_speak</th>\n",
       "      <th>mouth_breathing</th>\n",
       "      <th>sleep_apneas</th>\n",
       "      <th>symptoms</th>\n",
       "    </tr>\n",
       "  </thead>\n",
       "  <tbody>\n",
       "    <tr>\n",
       "      <th>0</th>\n",
       "      <td>M</td>\n",
       "      <td>13</td>\n",
       "      <td>7</td>\n",
       "      <td>1</td>\n",
       "      <td>1</td>\n",
       "      <td>0</td>\n",
       "      <td>0</td>\n",
       "      <td>1</td>\n",
       "      <td>1</td>\n",
       "      <td>0</td>\n",
       "      <td>...</td>\n",
       "      <td>0</td>\n",
       "      <td>0</td>\n",
       "      <td>0</td>\n",
       "      <td>0</td>\n",
       "      <td>0</td>\n",
       "      <td>0</td>\n",
       "      <td>0</td>\n",
       "      <td>0</td>\n",
       "      <td>0</td>\n",
       "      <td>MALARIA</td>\n",
       "    </tr>\n",
       "    <tr>\n",
       "      <th>1</th>\n",
       "      <td>M</td>\n",
       "      <td>13</td>\n",
       "      <td>7</td>\n",
       "      <td>1</td>\n",
       "      <td>1</td>\n",
       "      <td>0</td>\n",
       "      <td>0</td>\n",
       "      <td>1</td>\n",
       "      <td>1</td>\n",
       "      <td>0</td>\n",
       "      <td>...</td>\n",
       "      <td>0</td>\n",
       "      <td>0</td>\n",
       "      <td>0</td>\n",
       "      <td>0</td>\n",
       "      <td>0</td>\n",
       "      <td>0</td>\n",
       "      <td>0</td>\n",
       "      <td>0</td>\n",
       "      <td>0</td>\n",
       "      <td>URTI</td>\n",
       "    </tr>\n",
       "  </tbody>\n",
       "</table>\n",
       "<p>2 rows × 63 columns</p>\n",
       "</div>"
      ],
      "text/plain": [
       "  sex  age  duration  cough  night_fever  catarrh  cold  tenderness  headache  \\\n",
       "0   M   13         7      1            1        0     0           1         1   \n",
       "1   M   13         7      1            1        0     0           1         1   \n",
       "\n",
       "   black_stool  ...  vaginal_discharge  vaginal_itching  stooling  \\\n",
       "0            0  ...                  0                0         0   \n",
       "1            0  ...                  0                0         0   \n",
       "\n",
       "   running_nose  club_pain  bleeding_from_the_nose  unable_to_speak  \\\n",
       "0             0          0                       0                0   \n",
       "1             0          0                       0                0   \n",
       "\n",
       "   mouth_breathing  sleep_apneas  symptoms  \n",
       "0                0             0   MALARIA  \n",
       "1                0             0      URTI  \n",
       "\n",
       "[2 rows x 63 columns]"
      ]
     },
     "execution_count": 22,
     "metadata": {},
     "output_type": "execute_result"
    }
   ],
   "source": [
    "df.head(2)"
   ]
  },
  {
   "cell_type": "code",
   "execution_count": 23,
   "id": "afb819d3-783b-4a1e-b99c-901477d73da7",
   "metadata": {},
   "outputs": [],
   "source": [
    "# Preprocess the data\n",
    "def preprocess_data(df):\n",
    "    # Encode categorical variables\n",
    "    if 'sex' in df.columns:\n",
    "        df['sex'] = LabelEncoder().fit_transform(df['sex'])\n",
    "\n",
    "    # Drop non-numeric columns\n",
    "    if 'symptoms' in df.columns:\n",
    "        df = df.drop(columns=['symptoms'])\n",
    "\n",
    "    # Handle missing values\n",
    "    df = df.dropna()\n",
    "\n",
    "    # Standardize the data\n",
    "    numeric_columns = data.select_dtypes(include=[np.number]).columns\n",
    "    scaler = StandardScaler()\n",
    "    scaled_data = scaler.fit_transform(df)\n",
    "\n",
    "    return scaled_data, scaler, numeric_columns\n",
    "\n",
    "data_scaled, scaler, numeric_columns = preprocess_data(df)"
   ]
  },
  {
   "cell_type": "code",
   "execution_count": 24,
   "id": "ad202432-e16e-4a0d-9d31-0c4854feaff2",
   "metadata": {},
   "outputs": [],
   "source": [
    "# Fuzzy C-Means Clustering\n",
    "def apply_fcm(data, n_clusters=2):\n",
    "    fcm = FCM(n_clusters=n_clusters, random_state=42)\n",
    "    fcm.fit(data)\n",
    "    return fcm\n",
    "\n",
    "fcm = apply_fcm(data_scaled)"
   ]
  },
  {
   "cell_type": "code",
   "execution_count": 25,
   "id": "9a689c26-27d6-4911-880b-9a7cd9ac5dc9",
   "metadata": {},
   "outputs": [
    {
     "name": "stdout",
     "output_type": "stream",
     "text": [
      "Partition Coefficient (PC): 0.5000\n",
      "Partition Entropy (PE): 0.6931\n"
     ]
    }
   ],
   "source": [
    "# Evaluation Metrics\n",
    "def evaluate_fcm(fcm, data):\n",
    "    # Partition Coefficient (PC)\n",
    "    pc = np.mean(np.sum(fcm.u ** 2, axis=1))\n",
    "    \n",
    "    # Partition Entropy (PE)\n",
    "    pe = -np.mean(np.sum(fcm.u * np.log(fcm.u + 1e-10), axis=1))\n",
    "    \n",
    "    return pc, pe\n",
    "\n",
    "pc, pe = evaluate_fcm(fcm, data_scaled)\n",
    "print(f\"Partition Coefficient (PC): {pc:.4f}\")\n",
    "print(f\"Partition Entropy (PE): {pe:.4f}\")"
   ]
  },
  {
   "cell_type": "code",
   "execution_count": 26,
   "id": "c10e7916-396b-430f-8be7-9d51b62c310b",
   "metadata": {},
   "outputs": [],
   "source": [
    "# Reduce dimensions using PCA for visualization\n",
    "pca = PCA(n_components=2)\n",
    "data_2d = pca.fit_transform(data_scaled)\n",
    "centers_2d = pca.transform(fcm.centers)"
   ]
  },
  {
   "cell_type": "code",
   "execution_count": 27,
   "id": "efc7c4ce-9b10-4a44-8775-c2c739151815",
   "metadata": {},
   "outputs": [],
   "source": [
    "# Assign clusters\n",
    "labels = fcm.u.argmax(axis=1)"
   ]
  },
  {
   "cell_type": "code",
   "execution_count": 28,
   "id": "dcb51437-9900-44db-8e74-ea805d368568",
   "metadata": {},
   "outputs": [
    {
     "name": "stdout",
     "output_type": "stream",
     "text": [
      "\n",
      "Cluster Summary:\n",
      "         Samples  Avg_Membership\n",
      "Cluster                         \n",
      "0            149        0.500001\n",
      "1            156        0.500000\n"
     ]
    }
   ],
   "source": [
    "# Cluster Statistics\n",
    "def summarize_clusters(labels, membership_scores):\n",
    "    summary = pd.DataFrame({\n",
    "        \"Cluster\": labels,\n",
    "        \"Max Membership Score\": membership_scores.max(axis=1)\n",
    "    }).groupby(\"Cluster\").agg(\n",
    "        Samples=('Cluster', 'count'),\n",
    "        Avg_Membership=('Max Membership Score', 'mean')\n",
    "    )\n",
    "    return summary\n",
    "\n",
    "cluster_summary = summarize_clusters(labels, fcm.u)\n",
    "print(\"\\nCluster Summary:\")\n",
    "print(cluster_summary)"
   ]
  },
  {
   "cell_type": "code",
   "execution_count": 30,
   "id": "3cbf1ac5-75d7-40bd-b292-492d73692707",
   "metadata": {},
   "outputs": [
    {
     "data": {
      "image/png": "[encoded data removed]",
      "text/plain": [
       "<Figure size 800x600 with 1 Axes>"
      ]
     },
     "metadata": {},
     "output_type": "display_data"
    }
   ],
   "source": [
    "# Plot clusters\n",
    "def plot_clusters(data_2d, centers_2d, labels, n_clusters=2):\n",
    "    plt.figure(figsize=(8, 6))\n",
    "    for cluster in range(n_clusters):\n",
    "        plt.scatter(data_2d[labels == cluster, 0], data_2d[labels == cluster, 1], label=f\"Cluster {cluster+1}\")\n",
    "    plt.scatter(centers_2d[:, 0], centers_2d[:, 1], c='red', marker='x', s=200, label='Cluster Centers')\n",
    "    plt.title(\"Fuzzy C-Means Clustering (2D PCA Projection)\")\n",
    "    plt.xlabel(\"Principal Component 1\")\n",
    "    plt.ylabel(\"Principal Component 2\")\n",
    "    plt.legend()\n",
    "    plt.show()\n",
    "\n",
    "plot_clusters(data_2d, centers_2d, labels)"
   ]
  },
  {
   "cell_type": "code",
   "execution_count": 32,
   "id": "236539e7-a899-4081-871a-a745cd31a5a8",
   "metadata": {},
   "outputs": [],
   "source": [
    "import pickle\n",
    "# Save FCM model\n",
    "with open(\"fcm_model.pkl\", \"wb\") as f:\n",
    "    pickle.dump(fcm, f)"
   ]
  },
  {
   "cell_type": "markdown",
   "id": "07a16825-3e01-4587-96fe-69624f830d96",
   "metadata": {},
   "source": [
    "## Preidcting New Data"
   ]
  },
  {
   "cell_type": "code",
   "execution_count": 33,
   "id": "006ee573-881c-4131-ad6e-315fa2114088",
   "metadata": {},
   "outputs": [],
   "source": [
    "# Predict Cluster for New Data\n",
    "def predict_cluster(input_data, scaler, fcm):\n",
    "    try:\n",
    "        input_scaled = scaler.transform(np.array(input_data).reshape(1, -1))\n",
    "        membership = fcm.predict(input_scaled)\n",
    "        predicted_cluster = np.argmax(membership)\n",
    "        return predicted_cluster, membership\n",
    "    except Exception as e:\n",
    "        return None, str(e)"
   ]
  },
  {
   "cell_type": "code",
   "execution_count": 41,
   "id": "6ab369b1-76a3-4304-9c6c-5af0f4db9385",
   "metadata": {},
   "outputs": [
    {
     "name": "stdout",
     "output_type": "stream",
     "text": [
      "\n",
      "The new data point belongs to Cluster 1.\n",
      "\n",
      "Membership Scores:\n",
      "Cluster 1: 100.00%\n"
     ]
    },
    {
     "name": "stderr",
     "output_type": "stream",
     "text": [
      "C:\\Users\\ICE\\anaconda3\\Lib\\site-packages\\sklearn\\base.py:493: UserWarning: X does not have valid feature names, but StandardScaler was fitted with feature names\n",
      "  warnings.warn(\n"
     ]
    }
   ],
   "source": [
    "# Example Prediction\n",
    "new_data_point = (0,40,10,1,0,0,0,1,1,0,0,0,0,0,0,0,0,1,0,0,0,0,0,0,0,1,0,0,0,0,1,0,0,0,0,0,0,0,0,1,0,0,0,0,0,0,0,0,0,0,0,0,0,0,0,0,0,0,1,0,0,1)\n",
    "cluster, membership = predict_cluster(new_data_point, scaler, fcm)\n",
    "if cluster is not None:\n",
    "    # Check if membership is a 1D array or a single value\n",
    "    if isinstance(membership, np.ndarray) and membership.ndim == 2:\n",
    "        # Flatten the array to make sure it's iterable\n",
    "        membership_percentages = [f\"{score * 100:.2f}%\" for score in membership[0]]\n",
    "    else:\n",
    "        # If it's a single value (cluster assignment), no need to format percentages\n",
    "        membership_percentages = [f\"Cluster {cluster + 1}: 100.00%\"]\n",
    "\n",
    "    # Create a more readable output for the cluster and membership scores\n",
    "    print(f\"\\nThe new data point belongs to Cluster {cluster + 1}.\")\n",
    "    print(\"\\nMembership Scores:\")\n",
    "    \n",
    "    # Print each membership score with its corresponding cluster\n",
    "    for i, score in enumerate(membership_percentages):\n",
    "        print(f\"{score}\")\n",
    "else:\n",
    "    print(f\"Error in prediction: {membership}\")"
   ]
  },
  {
   "cell_type": "code",
   "execution_count": null,
   "id": "1d91658f-635e-48e0-ac66-8c3255884a74",
   "metadata": {},
   "outputs": [],
   "source": []
  }
 ],
 "metadata": {
  "kernelspec": {
   "display_name": "Python 3 (ipykernel)",
   "language": "python",
   "name": "python3"
  },
  "language_info": {
   "codemirror_mode": {
    "name": "ipython",
    "version": 3
   },
   "file_extension": ".py",
   "mimetype": "text/x-python",
   "name": "python",
   "nbconvert_exporter": "python",
   "pygments_lexer": "ipython3",
   "version": "3.12.4"
  }
 },
 "nbformat": 4,
 "nbformat_minor": 5
}
